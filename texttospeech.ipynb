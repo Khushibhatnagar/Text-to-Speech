{
 "cells": [
  {
   "cell_type": "code",
   "execution_count": 9,
   "id": "5c509997",
   "metadata": {},
   "outputs": [
    {
     "name": "stdout",
     "output_type": "stream",
     "text": [
      "enter:today is friday\n"
     ]
    }
   ],
   "source": [
    "import pyttsx3\n",
    "a=pyttsx3.init()\n",
    "speech=input (\"enter:\")\n",
    "a.say(speech)\n",
    "a.runAndWait()"
   ]
  }
 ],
 "metadata": {
  "kernelspec": {
   "display_name": "Python 3 (ipykernel)",
   "language": "python",
   "name": "python3"
  },
  "language_info": {
   "codemirror_mode": {
    "name": "ipython",
    "version": 3
   },
   "file_extension": ".py",
   "mimetype": "text/x-python",
   "name": "python",
   "nbconvert_exporter": "python",
   "pygments_lexer": "ipython3",
   "version": "3.9.12"
  }
 },
 "nbformat": 4,
 "nbformat_minor": 5
}
